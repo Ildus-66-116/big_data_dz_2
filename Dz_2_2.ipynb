{
 "cells": [
  {
   "cell_type": "code",
   "execution_count": 16,
   "id": "daa68f56",
   "metadata": {},
   "outputs": [],
   "source": [
    "import csv\n",
    "import pandas as pd\n",
    "import statistics"
   ]
  },
  {
   "cell_type": "code",
   "execution_count": 17,
   "id": "923674b7",
   "metadata": {},
   "outputs": [],
   "source": [
    "def mapper(path):\n",
    "    df = pd.read_csv(path)\n",
    "    column_list = df['price'].tolist()\n",
    "    return column_list\n",
    "    \n",
    "def reducer(score: list):\n",
    "  n = len(score)\n",
    "  mean = sum(score) / n\n",
    "  disp = statistics.variance(score)\n",
    "  return mean, disp\n",
    "\n"
   ]
  },
  {
   "cell_type": "code",
   "execution_count": 18,
   "id": "3429cff6",
   "metadata": {},
   "outputs": [
    {
     "name": "stdout",
     "output_type": "stream",
     "text": [
      "Среднее значение = 152.7206871868289, Дисперсия = 57674.025246960984\n"
     ]
    }
   ],
   "source": [
    "mean, disp = reducer(mapper('airbnb_prices.csv'))\n",
    "print(f'Среднее значение = {mean}, Дисперсия = {disp}')"
   ]
  },
  {
   "cell_type": "code",
   "execution_count": null,
   "id": "2b1fbd81",
   "metadata": {},
   "outputs": [],
   "source": []
  }
 ],
 "metadata": {
  "kernelspec": {
   "display_name": "Python 3 (ipykernel)",
   "language": "python",
   "name": "python3"
  },
  "language_info": {
   "codemirror_mode": {
    "name": "ipython",
    "version": 3
   },
   "file_extension": ".py",
   "mimetype": "text/x-python",
   "name": "python",
   "nbconvert_exporter": "python",
   "pygments_lexer": "ipython3",
   "version": "3.7.3"
  }
 },
 "nbformat": 4,
 "nbformat_minor": 5
}
